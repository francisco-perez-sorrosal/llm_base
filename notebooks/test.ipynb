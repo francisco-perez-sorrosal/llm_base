{
 "cells": [
  {
   "cell_type": "code",
   "execution_count": 1,
   "metadata": {},
   "outputs": [
    {
     "name": "stderr",
     "output_type": "stream",
     "text": [
      "2024-08-22 22:02:16 fperez-gcloud-stupid-sailor-twift root[3890914] INFO Logger root configured\n"
     ]
    },
    {
     "name": "stdout",
     "output_type": "stream",
     "text": [
      "Trying to configure logger root in module llm_foundation\n",
      "root # of associated handlers - 0\n",
      "Logging is not configured yet. Configuring it now.\n",
      "Basic logging config\n"
     ]
    },
    {
     "name": "stderr",
     "output_type": "stream",
     "text": [
      "2024-08-22 22:02:17 fperez-gcloud-stupid-sailor-twift langchain_community.utils.user_agent[3890914] WARNING USER_AGENT environment variable not set, consider setting it to identify your requests.\n"
     ]
    }
   ],
   "source": [
    "from llm_foundation.lm import get_model_catalog, get_lm\n",
    "from llm_foundation.basic_structs import Provider, LMConfig\n",
    "from llm_foundation.extractors import WebExtractor, CitedDocuments"
   ]
  },
  {
   "cell_type": "code",
   "execution_count": 2,
   "metadata": {},
   "outputs": [
    {
     "name": "stdout",
     "output_type": "stream",
     "text": [
      "Provider.LC LC\n"
     ]
    },
    {
     "name": "stderr",
     "output_type": "stream",
     "text": [
      "2024-08-22 22:02:18 fperez-gcloud-stupid-sailor-twift httpx[3890914] INFO HTTP Request: GET https://api.openai.com/v1/models \"HTTP/1.1 200 OK\"\n"
     ]
    },
    {
     "name": "stdout",
     "output_type": "stream",
     "text": [
      "Provider.OpenAI OpenAI\n"
     ]
    },
    {
     "name": "stderr",
     "output_type": "stream",
     "text": [
      "2024-08-22 22:02:18 fperez-gcloud-stupid-sailor-twift httpx[3890914] INFO HTTP Request: GET https://api.openai.com/v1/models \"HTTP/1.1 200 OK\"\n"
     ]
    },
    {
     "data": {
      "text/plain": [
       "{'lc_gpt-4o-mini': 'gpt-4o-mini',\n",
       " 'lc_gpt-4o': 'gpt-4o',\n",
       " 'lc_gpt-4o-2024-08-06': 'gpt-4o-2024-08-06',\n",
       " 'lc_gpt-4o-2024-05-13': 'gpt-4o-2024-05-13',\n",
       " 'lc_gpt-4o-mini-2024-07-18': 'gpt-4o-mini-2024-07-18',\n",
       " 'openai_gpt-4o-mini': 'gpt-4o-mini',\n",
       " 'openai_gpt-4o': 'gpt-4o',\n",
       " 'openai_gpt-4o-2024-08-06': 'gpt-4o-2024-08-06',\n",
       " 'openai_gpt-4o-2024-05-13': 'gpt-4o-2024-05-13',\n",
       " 'openai_gpt-4o-mini-2024-07-18': 'gpt-4o-mini-2024-07-18'}"
      ]
     },
     "execution_count": 2,
     "metadata": {},
     "output_type": "execute_result"
    }
   ],
   "source": [
    "get_model_catalog(Provider.LC, [\"gpt-4o\"])"
   ]
  },
  {
   "cell_type": "code",
   "execution_count": 3,
   "metadata": {},
   "outputs": [
    {
     "name": "stderr",
     "output_type": "stream",
     "text": [
      "2024-08-22 22:02:18 fperez-gcloud-stupid-sailor-twift root[3890914] INFO Creating lm object for provider LC\n",
      "2024-08-22 22:02:18 fperez-gcloud-stupid-sailor-twift root[3890914] INFO Creating ModelType.Chat object for model gpt-4o\n",
      "2024-08-22 22:02:18 fperez-gcloud-stupid-sailor-twift root[3890914] INFO LM object client=<openai.resources.chat.completions.Completions object at 0x7fdf6e85be30> async_client=<openai.resources.chat.completions.AsyncCompletions object at 0x7fdf6e87cb90> root_client=<openai.OpenAI object at 0x7fdf6e858ad0> root_async_client=<openai.AsyncOpenAI object at 0x7fdf6e85be90> model_name='gpt-4o' temperature=0.0 openai_api_key=SecretStr('**********') openai_proxy='' max_tokens=300 created\n"
     ]
    }
   ],
   "source": [
    "lm_config = LMConfig(model=\"gpt-4o\", provider=Provider.LC)\n",
    "lm = get_lm(lm_config)"
   ]
  },
  {
   "cell_type": "code",
   "execution_count": 4,
   "metadata": {},
   "outputs": [
    {
     "name": "stderr",
     "output_type": "stream",
     "text": [
      "2024-08-22 22:02:18 fperez-gcloud-stupid-sailor-twift root[3890914] INFO Extracting <class 'llm_foundation.extractors.CitedDocuments'>\n",
      "2024-08-22 22:02:18 fperez-gcloud-stupid-sailor-twift root[3890914] INFO Document len: 43902\n",
      "2024-08-22 22:02:18 fperez-gcloud-stupid-sailor-twift langchain_core.callbacks.base[3890914] WARNING CallbackManager.merge(): Parent run IDs do not match. Using the parent run ID of the first callback manager.\n",
      "2024-08-22 22:02:18 fperez-gcloud-stupid-sailor-twift langchain_core.callbacks.base[3890914] WARNING CallbackManager.merge(): Parent run IDs do not match. Using the parent run ID of the first callback manager.\n",
      "2024-08-22 22:02:18 fperez-gcloud-stupid-sailor-twift langchain_core.callbacks.base[3890914] WARNING CallbackManager.merge(): Parent run IDs do not match. Using the parent run ID of the first callback manager.\n",
      "2024-08-22 22:02:18 fperez-gcloud-stupid-sailor-twift langchain_core.callbacks.base[3890914] WARNING CallbackManager.merge(): Parent run IDs do not match. Using the parent run ID of the first callback manager.\n",
      "2024-08-22 22:02:18 fperez-gcloud-stupid-sailor-twift langchain_core.callbacks.base[3890914] WARNING CallbackManager.merge(): Parent run IDs do not match. Using the parent run ID of the first callback manager.\n",
      "2024-08-22 22:02:18 fperez-gcloud-stupid-sailor-twift langchain_core.callbacks.base[3890914] WARNING CallbackManager.merge(): Parent run IDs do not match. Using the parent run ID of the first callback manager.\n",
      "2024-08-22 22:02:18 fperez-gcloud-stupid-sailor-twift langchain_core.callbacks.base[3890914] WARNING CallbackManager.merge(): Parent run IDs do not match. Using the parent run ID of the first callback manager.\n",
      "2024-08-22 22:02:18 fperez-gcloud-stupid-sailor-twift langchain_core.callbacks.base[3890914] WARNING CallbackManager.merge(): Parent run IDs do not match. Using the parent run ID of the first callback manager.\n",
      "2024-08-22 22:02:18 fperez-gcloud-stupid-sailor-twift langchain_core.callbacks.base[3890914] WARNING CallbackManager.merge(): Parent run IDs do not match. Using the parent run ID of the first callback manager.\n",
      "2024-08-22 22:02:18 fperez-gcloud-stupid-sailor-twift langchain_core.callbacks.base[3890914] WARNING CallbackManager.merge(): Parent run IDs do not match. Using the parent run ID of the first callback manager.\n",
      "2024-08-22 22:02:18 fperez-gcloud-stupid-sailor-twift langchain_core.callbacks.base[3890914] WARNING CallbackManager.merge(): Parent run IDs do not match. Using the parent run ID of the first callback manager.\n",
      "2024-08-22 22:02:18 fperez-gcloud-stupid-sailor-twift langchain_core.callbacks.base[3890914] WARNING CallbackManager.merge(): Parent run IDs do not match. Using the parent run ID of the first callback manager.\n",
      "2024-08-22 22:02:19 fperez-gcloud-stupid-sailor-twift httpx[3890914] INFO HTTP Request: POST https://api.openai.com/v1/chat/completions \"HTTP/1.1 200 OK\"\n",
      "2024-08-22 22:02:19 fperez-gcloud-stupid-sailor-twift httpx[3890914] INFO HTTP Request: POST https://api.openai.com/v1/chat/completions \"HTTP/1.1 200 OK\"\n",
      "2024-08-22 22:02:19 fperez-gcloud-stupid-sailor-twift httpx[3890914] INFO HTTP Request: POST https://api.openai.com/v1/chat/completions \"HTTP/1.1 200 OK\"\n",
      "2024-08-22 22:02:19 fperez-gcloud-stupid-sailor-twift httpx[3890914] INFO HTTP Request: POST https://api.openai.com/v1/chat/completions \"HTTP/1.1 200 OK\"\n",
      "2024-08-22 22:02:19 fperez-gcloud-stupid-sailor-twift httpx[3890914] INFO HTTP Request: POST https://api.openai.com/v1/chat/completions \"HTTP/1.1 200 OK\"\n",
      "2024-08-22 22:02:19 fperez-gcloud-stupid-sailor-twift httpx[3890914] INFO HTTP Request: POST https://api.openai.com/v1/chat/completions \"HTTP/1.1 200 OK\"\n",
      "2024-08-22 22:02:20 fperez-gcloud-stupid-sailor-twift httpx[3890914] INFO HTTP Request: POST https://api.openai.com/v1/chat/completions \"HTTP/1.1 200 OK\"\n",
      "2024-08-22 22:02:20 fperez-gcloud-stupid-sailor-twift httpx[3890914] INFO HTTP Request: POST https://api.openai.com/v1/chat/completions \"HTTP/1.1 200 OK\"\n",
      "2024-08-22 22:02:20 fperez-gcloud-stupid-sailor-twift httpx[3890914] INFO HTTP Request: POST https://api.openai.com/v1/chat/completions \"HTTP/1.1 200 OK\"\n",
      "2024-08-22 22:02:20 fperez-gcloud-stupid-sailor-twift httpx[3890914] INFO HTTP Request: POST https://api.openai.com/v1/chat/completions \"HTTP/1.1 200 OK\"\n",
      "2024-08-22 22:02:22 fperez-gcloud-stupid-sailor-twift httpx[3890914] INFO HTTP Request: POST https://api.openai.com/v1/chat/completions \"HTTP/1.1 200 OK\"\n",
      "2024-08-22 22:02:22 fperez-gcloud-stupid-sailor-twift httpx[3890914] INFO HTTP Request: POST https://api.openai.com/v1/chat/completions \"HTTP/1.1 200 OK\"\n"
     ]
    },
    {
     "data": {
      "text/plain": [
       "{'https://lilianweng.github.io/posts/2023-06-23-agent/': [{'title': 'Chain of thought (CoT)',\n",
       "   'author': 'Wei et al.',\n",
       "   'year': 2022},\n",
       "  {'title': 'Tree of Thoughts', 'author': 'Yao et al.', 'year': 2023},\n",
       "  {'title': 'LLM+P', 'author': 'Liu et al.', 'year': 2023},\n",
       "  {'title': 'ReAct', 'author': 'Yao et al.', 'year': 2023},\n",
       "  {'title': 'Reflexion', 'author': 'Shinn & Labash', 'year': 2023},\n",
       "  {'title': 'Chain of Hindsight (CoH)', 'author': 'Liu et al.', 'year': 2023},\n",
       "  {'title': 'Algorithm Distillation', 'author': 'Laskin et al.', 'year': 2023},\n",
       "  {'title': 'RL^2', 'author': 'Duan et al.', 'year': 2017},\n",
       "  {'title': 'The Magical Number Seven, Plus or Minus Two: Some Limits on Our Capacity for Processing Information',\n",
       "   'author': 'Miller',\n",
       "   'year': 1956},\n",
       "  {'title': 'Modular Reasoning, Knowledge and Language',\n",
       "   'author': 'Karpas et al.',\n",
       "   'year': 2022},\n",
       "  {'title': 'Tool Augmented Language Models',\n",
       "   'author': 'Parisi et al.',\n",
       "   'year': 2022},\n",
       "  {'title': 'Toolformer', 'author': 'Schick et al.', 'year': 2023},\n",
       "  {'title': 'HuggingGPT', 'author': 'Shen et al.', 'year': 2023},\n",
       "  {'title': 'API-Bank', 'author': 'Li et al.', 'year': 2023},\n",
       "  {'title': 'ChemCrow', 'author': 'Bran et al.', 'year': 2023},\n",
       "  {'title': 'LLM-empowered agents for scientific discovery',\n",
       "   'author': 'Boiko et al.',\n",
       "   'year': 2023},\n",
       "  {'title': 'Generative Agents Simulation',\n",
       "   'author': 'Park et al.',\n",
       "   'year': 2023},\n",
       "  {'title': 'Chain of thought prompting elicits reasoning in large language models',\n",
       "   'author': 'Wei et al.',\n",
       "   'year': 2022},\n",
       "  {'title': 'Tree of Thoughts: Deliberate Problem Solving with Large Language Models',\n",
       "   'author': 'Yao et al.',\n",
       "   'year': 2023},\n",
       "  {'title': 'Chain of Hindsight Aligns Language Models with Feedback',\n",
       "   'author': 'Liu et al.',\n",
       "   'year': 2023},\n",
       "  {'title': 'LLM+P: Empowering Large Language Models with Optimal Planning Proficiency',\n",
       "   'author': 'Liu et al.',\n",
       "   'year': 2023},\n",
       "  {'title': 'ReAct: Synergizing reasoning and acting in language models',\n",
       "   'author': 'Yao et al.',\n",
       "   'year': 2023},\n",
       "  {'title': 'Announcing ScaNN: Efficient Vector Similarity Search',\n",
       "   'author': 'Google Blog',\n",
       "   'year': 2020},\n",
       "  {'title': 'Reflexion: an autonomous agent with dynamic memory and self-reflection',\n",
       "   'author': 'Shinn & Labash',\n",
       "   'year': 2023},\n",
       "  {'title': 'In-context Reinforcement Learning with Algorithm Distillation',\n",
       "   'author': 'Laskin et al.',\n",
       "   'year': 2023},\n",
       "  {'title': 'MRKL Systems A modular, neuro-symbolic architecture that combines large language models, external knowledge sources and discrete reasoning',\n",
       "   'author': 'Karpas et al.',\n",
       "   'year': 2022},\n",
       "  {'title': 'Webgpt: Browser-assisted question-answering with human feedback',\n",
       "   'author': 'Nakano et al.',\n",
       "   'year': 2021},\n",
       "  {'title': 'TALM: Tool Augmented Language Models',\n",
       "   'author': 'Parisi et al.',\n",
       "   'year': None},\n",
       "  {'title': 'Toolformer: Language Models Can Teach Themselves to Use Tools',\n",
       "   'author': 'Schick et al.',\n",
       "   'year': 2023},\n",
       "  {'title': 'API-Bank: A Benchmark for Tool-Augmented LLMs',\n",
       "   'author': 'Li et al.',\n",
       "   'year': 2023},\n",
       "  {'title': 'HuggingGPT: Solving AI Tasks with ChatGPT and its Friends in HuggingFace',\n",
       "   'author': 'Shen et al.',\n",
       "   'year': 2023},\n",
       "  {'title': 'ChemCrow: Augmenting large-language models with chemistry tools',\n",
       "   'author': 'Bran et al.',\n",
       "   'year': 2023},\n",
       "  {'title': 'Emergent autonomous scientific research capabilities of large language models',\n",
       "   'author': 'Boiko et al.',\n",
       "   'year': 2023},\n",
       "  {'title': 'Generative Agents: Interactive Simulacra of Human Behavior',\n",
       "   'author': 'Joon Sung Park et al.',\n",
       "   'year': 2023}]}"
      ]
     },
     "execution_count": 4,
     "metadata": {},
     "output_type": "execute_result"
    }
   ],
   "source": [
    "from langchain.prompts import ChatPromptTemplate\n",
    "\n",
    "sys_template = \"\"\"A text document will be passed to you. Extract from it all papers \\\n",
    "    that are mentioned/cited by the text. \\\n",
    "    Do not extract the name of the article itself. If no papers are mentioned \\\n",
    "    you don't need to extract any. Just return an empty list. \\\n",
    "    Do not make up or guess ANY extra information. Only extract what exactly is in the text.\"\"\"\n",
    "\n",
    "prompt = ChatPromptTemplate.from_messages([\n",
    "    (\"system\", sys_template),\n",
    "    (\"human\", \"{input}\")\n",
    "])\n",
    "\n",
    "web_doc = \"https://lilianweng.github.io/posts/2023-06-23-agent/\"\n",
    "\n",
    "extractor = WebExtractor(lm, CitedDocuments)\n",
    "extractor.extract(prompt, web_doc)"
   ]
  },
  {
   "cell_type": "code",
   "execution_count": null,
   "metadata": {},
   "outputs": [],
   "source": []
  }
 ],
 "metadata": {
  "kernelspec": {
   "display_name": "default",
   "language": "python",
   "name": "python3"
  },
  "language_info": {
   "codemirror_mode": {
    "name": "ipython",
    "version": 3
   },
   "file_extension": ".py",
   "mimetype": "text/x-python",
   "name": "python",
   "nbconvert_exporter": "python",
   "pygments_lexer": "ipython3",
   "version": "3.12.5"
  }
 },
 "nbformat": 4,
 "nbformat_minor": 2
}
