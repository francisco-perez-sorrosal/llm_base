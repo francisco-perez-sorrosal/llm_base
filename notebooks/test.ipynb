{
 "cells": [
  {
   "cell_type": "code",
   "execution_count": null,
   "metadata": {},
   "outputs": [],
   "source": [
    "from llm_foundation.basic_structs import Provider, LMConfig\n",
    "from llm_foundation.extractors import WebPageContentExtractor, CitedDocuments\n",
    "from llm_foundation.lm import get_model_catalog, get_lm\n",
    "from llm_foundation.routing import ToolMaster\n",
    "\n",
    "from langchain.prompts import ChatPromptTemplate"
   ]
  },
  {
   "cell_type": "code",
   "execution_count": null,
   "metadata": {},
   "outputs": [],
   "source": [
    "get_model_catalog(Provider.LC, [\"gpt-4o-mini\"])"
   ]
  },
  {
   "cell_type": "code",
   "execution_count": null,
   "metadata": {},
   "outputs": [],
   "source": [
    "lm_config = LMConfig(model=\"gpt-4o-mini\", provider=Provider.LC)\n",
    "lm = get_lm(lm_config)"
   ]
  },
  {
   "cell_type": "code",
   "execution_count": null,
   "metadata": {},
   "outputs": [],
   "source": [
    "web_doc = \"https://lilianweng.github.io/posts/2023-06-23-agent/\"\n",
    "\n",
    "webpage_extractor_tool = WebPageContentExtractor.build_tool(lm, CitedDocuments)\n",
    "\n",
    "print(type(webpage_extractor_tool))\n",
    "print(webpage_extractor_tool.name)\n",
    "print(webpage_extractor_tool.description)\n",
    "print(webpage_extractor_tool.args)"
   ]
  },
  {
   "cell_type": "code",
   "execution_count": null,
   "metadata": {},
   "outputs": [],
   "source": [
    "tools = [webpage_extractor_tool]\n",
    "query = \"calculate 12 * 4\"\n",
    "query_requiring_tools = f\"extract cited documents from {web_doc}\"\n",
    "\n",
    "print(lm.invoke(query))\n",
    "\n",
    "lm_with_tools = lm.bind_tools(tools)\n",
    "\n",
    "prompt = ChatPromptTemplate.from_messages([\n",
    "    (\"system\", \"You are helpful but sassy assistant\"),\n",
    "    (\"user\", \"{input}\"),\n",
    "])\n",
    "chain = prompt | lm_with_tools # | ToolsAgentOutputParser()\n",
    "chain_response = chain.invoke({\"input\": query_requiring_tools})\n",
    "print(type(chain_response))\n",
    "print(chain_response)"
   ]
  },
  {
   "cell_type": "markdown",
   "metadata": {},
   "source": [
    "# Tool Master"
   ]
  },
  {
   "cell_type": "code",
   "execution_count": null,
   "metadata": {},
   "outputs": [],
   "source": [
    "tool_master = ToolMaster(tools)"
   ]
  },
  {
   "cell_type": "code",
   "execution_count": null,
   "metadata": {},
   "outputs": [],
   "source": [
    "tool_response = tool_master.call_tools(chain_response)\n",
    "tool_response"
   ]
  }
 ],
 "metadata": {
  "kernelspec": {
   "display_name": "default",
   "language": "python",
   "name": "python3"
  },
  "language_info": {
   "codemirror_mode": {
    "name": "ipython",
    "version": 3
   },
   "file_extension": ".py",
   "mimetype": "text/x-python",
   "name": "python",
   "nbconvert_exporter": "python",
   "pygments_lexer": "ipython3",
   "version": "3.12.5"
  }
 },
 "nbformat": 4,
 "nbformat_minor": 2
}
